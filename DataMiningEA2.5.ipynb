{
 "cells": [
  {
   "cell_type": "code",
   "execution_count": 11,
   "id": "914dd670-27f5-4a10-9525-19cfc1fbd4aa",
   "metadata": {},
   "outputs": [
    {
     "name": "stdout",
     "output_type": "stream",
     "text": [
      "Numbe of values, min, max: 22-135-179\n",
      "Standard Deviation: 8.39187426734983\n",
      "Standard Deviation2: 8.58935715156008\n"
     ]
    }
   ],
   "source": [
    "import numpy as np\n",
    "import statistics\n",
    "values = [135,158,159,161,162,162,164,165,165,165,165,167,168,168,169,169,170,172,172,173,175,179]\n",
    "A = values # better labeling\n",
    "n = len(values)\n",
    "interval_l = 0\n",
    "interval_r = 1\n",
    "min_values = min(values)\n",
    "max_values = max(values)\n",
    "data = np.array(values)\n",
    "\n",
    "std_deviation = np.std(data) #1 # pop SD!!\n",
    "std_deviation_stats = statistics.stdev(values) #sample SD\n",
    "print(f\"Numbe of values, min, max: {n}-{min_values}-{max_values}\")\n",
    "print(f\"Standard Deviation: {std_deviation}\")\n",
    "print(f\"Standard Deviation2: {std_deviation_stats}\")"
   ]
  },
  {
   "cell_type": "code",
   "execution_count": 7,
   "id": "68297781-f1d8-430a-b98c-02c8b82e8e5a",
   "metadata": {},
   "outputs": [
    {
     "name": "stdout",
     "output_type": "stream",
     "text": [
      "Min max normalization of 162: 0.6136363636363636\n"
     ]
    }
   ],
   "source": [
    "# a) Min-Max-Normalisierung\n",
    "val = 162\n",
    "min_max = ((val-min_values)/(max_values -min_values) )\n",
    "print(f\"Min max normalization of {val}: {min_max}\")"
   ]
  },
  {
   "cell_type": "code",
   "execution_count": 15,
   "id": "d0f51d7a-91c1-4879-bd0a-430cd5856379",
   "metadata": {},
   "outputs": [
    {
     "name": "stdout",
     "output_type": "stream",
     "text": [
      "mean: 165.5909090909091\n",
      "Z transformation: 162, 165.5909090909091, z score: -0.41808232517279\n"
     ]
    }
   ],
   "source": [
    "# b) z-Transformation\n",
    "mean_A = sum(values) / len(values)\n",
    "sample_sd = 8.589\n",
    "z = (val -mean_values) / sample_sd\n",
    "print(f\"mean: {mean_A}\")\n",
    "print(f\"Z transformation: {val}, {mean_values}, z score: {z}\")"
   ]
  },
  {
   "cell_type": "code",
   "execution_count": 14,
   "id": "04e548a1-1628-41cf-a763-330fd8b170ba",
   "metadata": {},
   "outputs": [
    {
     "name": "stdout",
     "output_type": "stream",
     "text": [
      "Abs Diff Sum: 121.0\n",
      "Z transformation with mean absolute deviation: 162, 5.5, zmaa score: -0.6528925619834716\n"
     ]
    }
   ],
   "source": [
    "# c) z-Transformation mit Mittleren Absoluten Abweichung MAA \n",
    "# used more often as less susceptible to outliers\n",
    "absolute_differences_sum = sum(abs(value - mean_A) for value in values)\n",
    "print(f\"Abs Diff Sum: {absolute_differences_sum}\")\n",
    "maa = 1/n*(absolute_differences_sum)\n",
    "maa_z = (val -mean_A) / maa\n",
    "print(f\"Z transformation with mean absolute deviation: {val}, {maa}, zmaa score: {maa_z}\")"
   ]
  },
  {
   "cell_type": "code",
   "execution_count": 23,
   "id": "f00b0cee-9efa-4055-9a7e-173025470392",
   "metadata": {},
   "outputs": [
    {
     "name": "stdout",
     "output_type": "stream",
     "text": [
      "Scaled Values with Scaling Factor: 1000\n",
      "Original Value: 135, Scaled Value: 0.135\n",
      "Original Value: 158, Scaled Value: 0.158\n",
      "Original Value: 159, Scaled Value: 0.159\n",
      "Original Value: 161, Scaled Value: 0.161\n",
      "Original Value: 162, Scaled Value: 0.162\n",
      "Original Value: 162, Scaled Value: 0.162\n",
      "Original Value: 164, Scaled Value: 0.164\n",
      "Original Value: 165, Scaled Value: 0.165\n",
      "Original Value: 165, Scaled Value: 0.165\n",
      "Original Value: 165, Scaled Value: 0.165\n",
      "Original Value: 165, Scaled Value: 0.165\n",
      "Original Value: 167, Scaled Value: 0.167\n",
      "Original Value: 168, Scaled Value: 0.168\n",
      "Original Value: 168, Scaled Value: 0.168\n",
      "Original Value: 169, Scaled Value: 0.169\n",
      "Original Value: 169, Scaled Value: 0.169\n",
      "Original Value: 170, Scaled Value: 0.17\n",
      "Original Value: 172, Scaled Value: 0.172\n",
      "Original Value: 172, Scaled Value: 0.172\n",
      "Original Value: 173, Scaled Value: 0.173\n",
      "Original Value: 175, Scaled Value: 0.175\n",
      "Original Value: 179, Scaled Value: 0.179\n"
     ]
    }
   ],
   "source": [
    "# d) Dezimalskalierung\n",
    "import math\n",
    "# Find the maximum absolute value\n",
    "max_abs_value = max(abs(value) for value in values)\n",
    "# Calculate the smallest power of 10 greater than max_abs_value\n",
    "scaling_factor = 10 ** math.ceil(math.log10(max_abs_value))\n",
    "\n",
    "# Perform decimal scaling\n",
    "scaled_values = [value / scaling_factor for value in values]\n",
    "print(f\"Scaled Values with Scaling Factor: {scaling_factor}\")\n",
    "for value in values:\n",
    "    scaled_value = value / scaling_factor\n",
    "    print(f\"Original Value: {value}, Scaled Value: {scaled_value}\")\n"
   ]
  },
  {
   "cell_type": "code",
   "execution_count": null,
   "id": "d32571b7-4948-43d9-991a-35710cd35da2",
   "metadata": {},
   "outputs": [],
   "source": []
  }
 ],
 "metadata": {
  "kernelspec": {
   "display_name": "Python 3 (ipykernel)",
   "language": "python",
   "name": "python3"
  },
  "language_info": {
   "codemirror_mode": {
    "name": "ipython",
    "version": 3
   },
   "file_extension": ".py",
   "mimetype": "text/x-python",
   "name": "python",
   "nbconvert_exporter": "python",
   "pygments_lexer": "ipython3",
   "version": "3.11.6"
  }
 },
 "nbformat": 4,
 "nbformat_minor": 5
}
